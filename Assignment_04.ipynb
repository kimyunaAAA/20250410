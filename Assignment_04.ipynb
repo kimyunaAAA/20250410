{
  "nbformat": 4,
  "nbformat_minor": 0,
  "metadata": {
    "colab": {
      "provenance": []
    },
    "kernelspec": {
      "name": "python3",
      "display_name": "Python 3"
    },
    "language_info": {
      "name": "python"
    }
  },
  "cells": [
    {
      "cell_type": "markdown",
      "source": [
        "# 1. LeetCode 225. Implement Stack using Queues"
      ],
      "metadata": {
        "id": "VjoegOlFUmK8"
      }
    },
    {
      "cell_type": "code",
      "execution_count": 5,
      "metadata": {
        "id": "-9couIPGL5-z"
      },
      "outputs": [],
      "source": [
        "class MyStack(object):\n",
        "\n",
        "    def __init__(self):\n",
        "        self.q = deque()\n",
        "\n",
        "    def push(self, x):\n",
        "        \"\"\"\n",
        "        :type x: int\n",
        "        :rtype: None\n",
        "        \"\"\"\n",
        "        self.q.append(x)\n",
        "        for _ in range(len(self.q) - 1):\n",
        "            self.q.append(self.q.popleft())\n",
        "\n",
        "    def pop(self):\n",
        "        \"\"\"\n",
        "        :rtype: int\n",
        "        \"\"\"\n",
        "        return self.q.popleft()\n",
        "\n",
        "    def top(self):\n",
        "        \"\"\"\n",
        "        :rtype: int\n",
        "        \"\"\"\n",
        "        return self.q[0]\n",
        "\n",
        "    def empty(self):\n",
        "        \"\"\"\n",
        "        :rtype: bool\n",
        "        \"\"\"\n",
        "        return not self.q\n"
      ]
    },
    {
      "cell_type": "markdown",
      "source": [
        "# 2. LeetCode 232. Implement Queue using Stacks"
      ],
      "metadata": {
        "id": "xHfAj8j-U0t8"
      }
    },
    {
      "cell_type": "code",
      "source": [
        "class MyQueue(object):\n",
        "\n",
        "    def __init__(self):\n",
        "        self.stack_in = []\n",
        "        self.stack_out = []\n",
        "\n",
        "    def push(self, x):\n",
        "        \"\"\"\n",
        "        :type x: int\n",
        "        :rtype: None\n",
        "        \"\"\"\n",
        "        self.stack_in.append(x)\n",
        "\n",
        "    def pop(self):\n",
        "        \"\"\"\n",
        "        :rtype: int\n",
        "        \"\"\"\n",
        "        if not self.stack_out:\n",
        "            while self.stack_in:\n",
        "                self.stack_out.append(self.stack_in.pop())\n",
        "        return self.stack_out.pop()\n",
        "\n",
        "    def peek(self):\n",
        "        \"\"\"\n",
        "        :rtype: int\n",
        "        \"\"\"\n",
        "        if not self.stack_out:\n",
        "            while self.stack_in:\n",
        "                self.stack_out.append(self.stack_in.pop())\n",
        "        return self.stack_out[-1]\n",
        "\n",
        "    def empty(self):\n",
        "        \"\"\"\n",
        "        :rtype: bool\n",
        "        \"\"\"\n",
        "        return not self.stack_in and not self.stack_out"
      ],
      "metadata": {
        "id": "nGpIzn3aU5as"
      },
      "execution_count": 8,
      "outputs": []
    },
    {
      "cell_type": "markdown",
      "source": [
        "# 3. 교재의 큐 연습문제"
      ],
      "metadata": {
        "id": "yzLyWjDnV55D"
      }
    },
    {
      "cell_type": "markdown",
      "source": [
        "**1번 문제**"
      ],
      "metadata": {
        "id": "B2jCJdjPV-47"
      }
    },
    {
      "cell_type": "code",
      "source": [
        "class ListQueue:\n",
        "    def __init__(self):\n",
        "        self.__queue = []\n",
        "\n",
        "    def enqueue(self, x):\n",
        "        self.__queue.insert(0, x)\n",
        "\n",
        "    def dequeue(self):\n",
        "        return self.__queue.pop()\n",
        "\n",
        "    def front(self):\n",
        "        return self.__queue[-1]\n",
        "\n",
        "    def isEmpty(self) -> bool:\n",
        "        return len(self.__queue) == 0\n",
        "\n",
        "    def dequeueAll(self):\n",
        "        self.__queue.clear()\n"
      ],
      "metadata": {
        "id": "Ts6b-n1oWYvs"
      },
      "execution_count": 9,
      "outputs": []
    },
    {
      "cell_type": "markdown",
      "source": [
        "**2번 문제**"
      ],
      "metadata": {
        "id": "53rPaB2MWn9V"
      }
    },
    {
      "cell_type": "code",
      "source": [
        "from collections import deque\n",
        "\n",
        "def isPalindromeFormat(s: str) -> bool:\n",
        "    q = deque()\n",
        "    i = 0\n",
        "\n",
        "    # '$'가 나오기 전까지 문자열의 각 문자를 큐에 저장 (w 부분)\n",
        "    while i < len(s) and s[i] != '$':\n",
        "        q.append(s[i])\n",
        "        i += 1\n",
        "\n",
        "    # '$'를 찾지 못했다면 올바른 형식이 아님\n",
        "    if i == len(s):\n",
        "        return False\n",
        "\n",
        "    i += 1  # '$' 건너뛰기\n",
        "\n",
        "    # '$' 이후의 문자들은 w의 역순(wʳ)과 비교\n",
        "    while i < len(s):\n",
        "        if not q:         # 만약 w에서 가져올 문자가 없다면\n",
        "            return False  # 형식이 맞지 않음\n",
        "        # 큐에서 오른쪽(마지막 요소)를 pop하여 w의 역순과 비교함\n",
        "        if s[i] != q.pop():\n",
        "            return False\n",
        "        i += 1\n",
        "\n",
        "    # 모든 비교가 끝났을 때 큐가 정확히 비어있어야 함\n",
        "    return len(q) == 0\n",
        "\n",
        "# === 메인 실행부 ===\n",
        "if __name__ == \"__main__\":\n",
        "    user_input = input(\"문자열을 입력하세요 (형식: w$wʳ): \")\n",
        "    if isPalindromeFormat(user_input):\n",
        "        print(\"조건을 만족합니다: 집합의 원소입니다.\")\n",
        "    else:\n",
        "        print(\"조건을 만족하지 않습니다: 집합의 원소가 아닙니다.\")\n",
        "\n"
      ],
      "metadata": {
        "colab": {
          "base_uri": "https://localhost:8080/"
        },
        "id": "o_JdMuHyW2sL",
        "outputId": "b3c6245c-70cb-439d-d681-ab1bc134485b"
      },
      "execution_count": 18,
      "outputs": [
        {
          "output_type": "stream",
          "name": "stdout",
          "text": [
            "문자열을 입력하세요 (형식: w$wʳ): aw$wa\n",
            "조건을 만족합니다: 집합의 원소입니다.\n"
          ]
        }
      ]
    },
    {
      "cell_type": "markdown",
      "source": [
        "**3번 문제**"
      ],
      "metadata": {
        "id": "8svg7__lWqWz"
      }
    },
    {
      "cell_type": "code",
      "source": [
        "def copyQueue(a):\n",
        "    b = LinkedQueue()\n",
        "    temp = LinkedQueue()\n",
        "\n",
        "    while not a.isEmpty():\n",
        "        item = a.dequeue()\n",
        "        temp.enqueue(item)\n",
        "        b.enqueue(item)\n",
        "\n",
        "    while not temp.isEmpty():\n",
        "        a.enqueue(temp.dequeue())\n",
        "\n",
        "    return b\n"
      ],
      "metadata": {
        "id": "ZOI-31DqXEl7"
      },
      "execution_count": 12,
      "outputs": []
    },
    {
      "cell_type": "markdown",
      "source": [
        "**4번 문제**"
      ],
      "metadata": {
        "id": "PEABGHzEWsjT"
      }
    },
    {
      "cell_type": "code",
      "source": [
        "class StackUsingQueues:\n",
        "    def __init__(self):\n",
        "        self.q1 = deque()\n",
        "        self.q2 = deque()\n",
        "\n",
        "    def push(self, x):\n",
        "        self.q1.append(x)\n",
        "\n",
        "    def pop(self):\n",
        "        while len(self.q1) > 1:\n",
        "            self.q2.append(self.q1.popleft())\n",
        "        val = self.q1.popleft()\n",
        "        self.q1, self.q2 = self.q2, self.q1  # swap\n",
        "        return val\n"
      ],
      "metadata": {
        "id": "2MBijnKsXHYM"
      },
      "execution_count": 13,
      "outputs": []
    },
    {
      "cell_type": "markdown",
      "source": [
        "**5번 문제**"
      ],
      "metadata": {
        "id": "wytFyxfjWugD"
      }
    },
    {
      "cell_type": "code",
      "source": [
        "class QueueUsingStacks:\n",
        "    def __init__(self):\n",
        "        self.s1 = []\n",
        "        self.s2 = []\n",
        "\n",
        "    def enqueue(self, x):\n",
        "        self.s1.append(x)\n",
        "\n",
        "    def dequeue(self):\n",
        "        if not self.s2:\n",
        "            while self.s1:\n",
        "                self.s2.append(self.s1.pop())\n",
        "        return self.s2.pop()\n"
      ],
      "metadata": {
        "id": "6Ek54HaGXM3j"
      },
      "execution_count": 14,
      "outputs": []
    },
    {
      "cell_type": "markdown",
      "source": [
        "**6번 문제**"
      ],
      "metadata": {
        "id": "CBoUiw2ZWwNz"
      }
    },
    {
      "cell_type": "markdown",
      "source": [
        "deque는 양방향 삽입/삭제가 가능한 큐\n",
        "이중 연결 리스트 또는 원형 배열 기반으로 설계되어 있기에, 다음 연산들은 모두 O(1) 시간복잡도를 가진다\n"
      ],
      "metadata": {
        "id": "lFk_6yBdXUaL"
      }
    },
    {
      "cell_type": "markdown",
      "source": [
        "답 : enqueue() -> O(1) / dequeue() -> O(1)"
      ],
      "metadata": {
        "id": "oa2S6kuybyl6"
      }
    },
    {
      "cell_type": "markdown",
      "source": [
        "**7번 문제**"
      ],
      "metadata": {
        "id": "cUHShZ86Wx4r"
      }
    },
    {
      "cell_type": "markdown",
      "source": [
        "dequeue()같은 경우엔 앞에서 삭제하는 거라 head 바로 수정이 가능하기에 시간 복잡도가 O(1)이다.\n",
        "반면에 enqueue()는 뒤에 삽입하는 것이기 때문에 끝까지 순회해서 삽입 위치를 찾아야 한다. 그렇기에 노드 수가 n개 라면, n번 순회해서 찾는 것이기에 시간 복잡도는 O(n)이 된다."
      ],
      "metadata": {
        "id": "Yi4gv9nObxkS"
      }
    },
    {
      "cell_type": "markdown",
      "source": [
        "답 : enqueue() -> O(n) / dequeue() -> O(1)"
      ],
      "metadata": {
        "id": "QrxIT4gDdDDK"
      }
    },
    {
      "cell_type": "markdown",
      "source": [
        "**8번 문제**"
      ],
      "metadata": {
        "id": "UWdgRSHjWz-s"
      }
    },
    {
      "cell_type": "code",
      "source": [
        "class Deque:\n",
        "    def __init__(self):\n",
        "        self.__queue = []\n",
        "\n",
        "    def isEmpty(self) -> bool:\n",
        "        return len(self.__queue) == 0\n",
        "\n",
        "    def enqueueFront(self, x):\n",
        "        self.__queue.insert(0, x)\n",
        "\n",
        "    def enqueueRear(self, x):\n",
        "        self.__queue.append(x)\n",
        "\n",
        "    def dequeueFront(self):\n",
        "        if not self.isEmpty():\n",
        "            return self.__queue.pop(0)\n",
        "        return None\n",
        "\n",
        "    def dequeueRear(self):\n",
        "        if not self.isEmpty():\n",
        "            return self.__queue.pop()\n",
        "        return None\n",
        "\n",
        "    def front(self):\n",
        "        if self.isEmpty():\n",
        "            return None\n",
        "        return self.__queue[0]\n",
        "\n",
        "    def rear(self):\n",
        "        if self.isEmpty():\n",
        "            return None\n",
        "        return self.__queue[-1]\n",
        "\n",
        "    def dequeueAll(self):\n",
        "        self.__queue.clear()\n",
        "\n",
        "    def printDeque(self):\n",
        "        print(\"Deque from front:\", end=' ')\n",
        "        for item in self.__queue:\n",
        "            print(item, end=' ')\n",
        "        print()\n"
      ],
      "metadata": {
        "id": "bFD-p8C5Xb1a"
      },
      "execution_count": 15,
      "outputs": []
    }
  ]
}